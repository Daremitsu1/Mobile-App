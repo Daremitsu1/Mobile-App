{
  "nbformat": 4,
  "nbformat_minor": 0,
  "metadata": {
    "colab": {
      "provenance": []
    },
    "kernelspec": {
      "name": "python3",
      "display_name": "Python 3"
    },
    "language_info": {
      "name": "python"
    },
    "accelerator": "GPU",
    "gpuClass": "standard"
  },
  "cells": [
    {
      "cell_type": "code",
      "source": [
        "import pandas as pd\n",
        "from sklearn.model_selection import train_test_split\n",
        "from sklearn.linear_model import LinearRegression\n",
        "from sklearn.metrics import mean_squared_error"
      ],
      "metadata": {
        "id": "YGwJeB-z1Uhl"
      },
      "execution_count": null,
      "outputs": []
    },
    {
      "cell_type": "code",
      "source": [
        "# load the preprocessed data\n",
        "traffic_data = pd.read_csv(\"preprocessed_traffic_data.csv\")"
      ],
      "metadata": {
        "id": "LvQ4AtDI1YpZ"
      },
      "execution_count": null,
      "outputs": []
    },
    {
      "cell_type": "code",
      "source": [
        "# split the data into training and testing sets\n",
        "X_train, X_test, y_train, y_test = train_test_split(traffic_data.drop(\"traffic_congestion\", axis=1),\n",
        "                                                    traffic_data[\"traffic_congestion\"],\n",
        "                                                    test_size=0.2, random_state=42)"
      ],
      "metadata": {
        "id": "7vwaVBxC1c-S"
      },
      "execution_count": null,
      "outputs": []
    },
    {
      "cell_type": "code",
      "source": [
        "# train the model\n",
        "reg = LinearRegression().fit(X_train, y_train)"
      ],
      "metadata": {
        "id": "sjS8K10D1f5w"
      },
      "execution_count": null,
      "outputs": []
    },
    {
      "cell_type": "code",
      "source": [
        "# mke predictions on the test set\n",
        "y_pred = reg.predict(X_test)"
      ],
      "metadata": {
        "id": "1uc27yLY1jV9"
      },
      "execution_count": null,
      "outputs": []
    },
    {
      "cell_type": "code",
      "source": [
        "# evaluate the model\n",
        "rmse = mean_squared_error(y_test, y_pred)\n",
        "print(\"Root Mean Squared Error: \", rmse)"
      ],
      "metadata": {
        "id": "ZNmdMyWb1lmV"
      },
      "execution_count": null,
      "outputs": []
    },
    {
      "cell_type": "code",
      "source": [
        "# optimize the model\n",
        "from sklearn.model_selection import GridSearchCV\n",
        "param_grid = {'fit_intercept':[True,False], 'normalize':[True,False]}\n",
        "reg = LinearRegression()\n",
        "reg = GridSearchCV(reg, param_grid, cv=5)\n",
        "reg.fit(X_train, y_train)\n",
        "print(\"Best parameters: \", reg.best_params_)"
      ],
      "metadata": {
        "id": "SpdWu5XF1o3o"
      },
      "execution_count": null,
      "outputs": []
    }
  ]
}
